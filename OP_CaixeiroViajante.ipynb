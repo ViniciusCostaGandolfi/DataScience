{
  "nbformat": 4,
  "nbformat_minor": 0,
  "metadata": {
    "colab": {
      "provenance": []
    },
    "kernelspec": {
      "name": "python3",
      "display_name": "Python 3"
    },
    "language_info": {
      "name": "python"
    }
  },
  "cells": [
    {
      "cell_type": "code",
      "metadata": {
        "id": "L36Z14hsDQPE",
        "colab": {
          "base_uri": "https://localhost:8080/"
        },
        "outputId": "0619dc31-264c-403c-be11-807a14a05dd2"
      },
      "source": [
        "\"\"\"\n",
        "Vinicius Costa Gandolfi\n",
        "\"\"\"\n",
        "\n",
        "!pip install ortools\n",
        "import numpy as np # Manipulação de Vetores\n",
        "import pandas as pd # Manipulação de  Tabelas\n",
        "from ortools.linear_solver import pywraplp # Solver Linear"
      ],
      "execution_count": null,
      "outputs": [
        {
          "output_type": "stream",
          "name": "stdout",
          "text": [
            "Requirement already satisfied: ortools in /usr/local/lib/python3.7/dist-packages (9.1.9490)\n",
            "Requirement already satisfied: absl-py>=0.13 in /usr/local/lib/python3.7/dist-packages (from ortools) (1.0.0)\n",
            "Requirement already satisfied: protobuf>=3.18.0 in /usr/local/lib/python3.7/dist-packages (from ortools) (3.19.1)\n",
            "Requirement already satisfied: six in /usr/local/lib/python3.7/dist-packages (from absl-py>=0.13->ortools) (1.15.0)\n"
          ]
        }
      ]
    },
    {
      "cell_type": "code",
      "metadata": {
        "id": "TS2XfGc4HfbR",
        "colab": {
          "base_uri": "https://localhost:8080/",
          "height": 300
        },
        "outputId": "bd5ea96b-07e7-4c38-ebe3-617cee752b71"
      },
      "source": [
        "# Distancia entre os Locais\n",
        "import numpy as np\n",
        "import pandas as pd\n",
        "\n",
        "df = pd.DataFrame({\n",
        "       \"Local 1\" : [   0. ,  162. ,  378.5,  765. , 1590. , 2430. , 3070. , 5020. ],\n",
        "       \"Local 2\" : [ 162. ,    0. ,  215. ,  600. , 1540. , 2260. , 2900. , 5120. ],\n",
        "       \"Local 3\" : [ 379. ,  215. ,    0. ,  392. , 1520. , 2060. , 2690. , 5060. ],\n",
        "       \"Local 4\" : [ 765. ,  600. ,  392. ,    0. , 1450. , 1650. , 2300. , 4820. ],\n",
        "       \"Local 5\" : [1590. , 1540. , 1520. , 1450. ,    0. , 2280. , 2770. , 3620. ],\n",
        "       \"Local 6\" : [2430. , 2260. , 2060. , 1650. , 2280. ,    0. ,  642. , 4420. ],\n",
        "       \"Local 7\" : [3070. , 2900. , 2690. , 2300. , 2770. ,  642. ,    0. , 4360. ],\n",
        "       \"Local 8\" : [5020. , 5120. , 5060. , 4820. , 3620. , 4420. , 4360. ,    0. ]\n",
        "       }, index = [\"Local 1\", \"Local 2\", \"Local 3\", \"Local 4\", \"Local 5\", \"Local 6\", \"Local 7\", \"Local 8\", ])\n",
        "\n",
        "df"
      ],
      "execution_count": null,
      "outputs": [
        {
          "output_type": "execute_result",
          "data": {
            "text/html": [
              "\n",
              "  <div id=\"df-5dddcf0d-0f47-4009-913c-d8c787aebe7f\">\n",
              "    <div class=\"colab-df-container\">\n",
              "      <div>\n",
              "<style scoped>\n",
              "    .dataframe tbody tr th:only-of-type {\n",
              "        vertical-align: middle;\n",
              "    }\n",
              "\n",
              "    .dataframe tbody tr th {\n",
              "        vertical-align: top;\n",
              "    }\n",
              "\n",
              "    .dataframe thead th {\n",
              "        text-align: right;\n",
              "    }\n",
              "</style>\n",
              "<table border=\"1\" class=\"dataframe\">\n",
              "  <thead>\n",
              "    <tr style=\"text-align: right;\">\n",
              "      <th></th>\n",
              "      <th>Local 1</th>\n",
              "      <th>Local 2</th>\n",
              "      <th>Local 3</th>\n",
              "      <th>Local 4</th>\n",
              "      <th>Local 5</th>\n",
              "      <th>Local 6</th>\n",
              "      <th>Local 7</th>\n",
              "      <th>Local 8</th>\n",
              "    </tr>\n",
              "  </thead>\n",
              "  <tbody>\n",
              "    <tr>\n",
              "      <th>Local 1</th>\n",
              "      <td>0.0</td>\n",
              "      <td>162.0</td>\n",
              "      <td>379.0</td>\n",
              "      <td>765.0</td>\n",
              "      <td>1590.0</td>\n",
              "      <td>2430.0</td>\n",
              "      <td>3070.0</td>\n",
              "      <td>5020.0</td>\n",
              "    </tr>\n",
              "    <tr>\n",
              "      <th>Local 2</th>\n",
              "      <td>162.0</td>\n",
              "      <td>0.0</td>\n",
              "      <td>215.0</td>\n",
              "      <td>600.0</td>\n",
              "      <td>1540.0</td>\n",
              "      <td>2260.0</td>\n",
              "      <td>2900.0</td>\n",
              "      <td>5120.0</td>\n",
              "    </tr>\n",
              "    <tr>\n",
              "      <th>Local 3</th>\n",
              "      <td>378.5</td>\n",
              "      <td>215.0</td>\n",
              "      <td>0.0</td>\n",
              "      <td>392.0</td>\n",
              "      <td>1520.0</td>\n",
              "      <td>2060.0</td>\n",
              "      <td>2690.0</td>\n",
              "      <td>5060.0</td>\n",
              "    </tr>\n",
              "    <tr>\n",
              "      <th>Local 4</th>\n",
              "      <td>765.0</td>\n",
              "      <td>600.0</td>\n",
              "      <td>392.0</td>\n",
              "      <td>0.0</td>\n",
              "      <td>1450.0</td>\n",
              "      <td>1650.0</td>\n",
              "      <td>2300.0</td>\n",
              "      <td>4820.0</td>\n",
              "    </tr>\n",
              "    <tr>\n",
              "      <th>Local 5</th>\n",
              "      <td>1590.0</td>\n",
              "      <td>1540.0</td>\n",
              "      <td>1520.0</td>\n",
              "      <td>1450.0</td>\n",
              "      <td>0.0</td>\n",
              "      <td>2280.0</td>\n",
              "      <td>2770.0</td>\n",
              "      <td>3620.0</td>\n",
              "    </tr>\n",
              "    <tr>\n",
              "      <th>Local 6</th>\n",
              "      <td>2430.0</td>\n",
              "      <td>2260.0</td>\n",
              "      <td>2060.0</td>\n",
              "      <td>1650.0</td>\n",
              "      <td>2280.0</td>\n",
              "      <td>0.0</td>\n",
              "      <td>642.0</td>\n",
              "      <td>4420.0</td>\n",
              "    </tr>\n",
              "    <tr>\n",
              "      <th>Local 7</th>\n",
              "      <td>3070.0</td>\n",
              "      <td>2900.0</td>\n",
              "      <td>2690.0</td>\n",
              "      <td>2300.0</td>\n",
              "      <td>2770.0</td>\n",
              "      <td>642.0</td>\n",
              "      <td>0.0</td>\n",
              "      <td>4360.0</td>\n",
              "    </tr>\n",
              "    <tr>\n",
              "      <th>Local 8</th>\n",
              "      <td>5020.0</td>\n",
              "      <td>5120.0</td>\n",
              "      <td>5060.0</td>\n",
              "      <td>4820.0</td>\n",
              "      <td>3620.0</td>\n",
              "      <td>4420.0</td>\n",
              "      <td>4360.0</td>\n",
              "      <td>0.0</td>\n",
              "    </tr>\n",
              "  </tbody>\n",
              "</table>\n",
              "</div>\n",
              "      <button class=\"colab-df-convert\" onclick=\"convertToInteractive('df-5dddcf0d-0f47-4009-913c-d8c787aebe7f')\"\n",
              "              title=\"Convert this dataframe to an interactive table.\"\n",
              "              style=\"display:none;\">\n",
              "        \n",
              "  <svg xmlns=\"http://www.w3.org/2000/svg\" height=\"24px\"viewBox=\"0 0 24 24\"\n",
              "       width=\"24px\">\n",
              "    <path d=\"M0 0h24v24H0V0z\" fill=\"none\"/>\n",
              "    <path d=\"M18.56 5.44l.94 2.06.94-2.06 2.06-.94-2.06-.94-.94-2.06-.94 2.06-2.06.94zm-11 1L8.5 8.5l.94-2.06 2.06-.94-2.06-.94L8.5 2.5l-.94 2.06-2.06.94zm10 10l.94 2.06.94-2.06 2.06-.94-2.06-.94-.94-2.06-.94 2.06-2.06.94z\"/><path d=\"M17.41 7.96l-1.37-1.37c-.4-.4-.92-.59-1.43-.59-.52 0-1.04.2-1.43.59L10.3 9.45l-7.72 7.72c-.78.78-.78 2.05 0 2.83L4 21.41c.39.39.9.59 1.41.59.51 0 1.02-.2 1.41-.59l7.78-7.78 2.81-2.81c.8-.78.8-2.07 0-2.86zM5.41 20L4 18.59l7.72-7.72 1.47 1.35L5.41 20z\"/>\n",
              "  </svg>\n",
              "      </button>\n",
              "      \n",
              "  <style>\n",
              "    .colab-df-container {\n",
              "      display:flex;\n",
              "      flex-wrap:wrap;\n",
              "      gap: 12px;\n",
              "    }\n",
              "\n",
              "    .colab-df-convert {\n",
              "      background-color: #E8F0FE;\n",
              "      border: none;\n",
              "      border-radius: 50%;\n",
              "      cursor: pointer;\n",
              "      display: none;\n",
              "      fill: #1967D2;\n",
              "      height: 32px;\n",
              "      padding: 0 0 0 0;\n",
              "      width: 32px;\n",
              "    }\n",
              "\n",
              "    .colab-df-convert:hover {\n",
              "      background-color: #E2EBFA;\n",
              "      box-shadow: 0px 1px 2px rgba(60, 64, 67, 0.3), 0px 1px 3px 1px rgba(60, 64, 67, 0.15);\n",
              "      fill: #174EA6;\n",
              "    }\n",
              "\n",
              "    [theme=dark] .colab-df-convert {\n",
              "      background-color: #3B4455;\n",
              "      fill: #D2E3FC;\n",
              "    }\n",
              "\n",
              "    [theme=dark] .colab-df-convert:hover {\n",
              "      background-color: #434B5C;\n",
              "      box-shadow: 0px 1px 3px 1px rgba(0, 0, 0, 0.15);\n",
              "      filter: drop-shadow(0px 1px 2px rgba(0, 0, 0, 0.3));\n",
              "      fill: #FFFFFF;\n",
              "    }\n",
              "  </style>\n",
              "\n",
              "      <script>\n",
              "        const buttonEl =\n",
              "          document.querySelector('#df-5dddcf0d-0f47-4009-913c-d8c787aebe7f button.colab-df-convert');\n",
              "        buttonEl.style.display =\n",
              "          google.colab.kernel.accessAllowed ? 'block' : 'none';\n",
              "\n",
              "        async function convertToInteractive(key) {\n",
              "          const element = document.querySelector('#df-5dddcf0d-0f47-4009-913c-d8c787aebe7f');\n",
              "          const dataTable =\n",
              "            await google.colab.kernel.invokeFunction('convertToInteractive',\n",
              "                                                     [key], {});\n",
              "          if (!dataTable) return;\n",
              "\n",
              "          const docLinkHtml = 'Like what you see? Visit the ' +\n",
              "            '<a target=\"_blank\" href=https://colab.research.google.com/notebooks/data_table.ipynb>data table notebook</a>'\n",
              "            + ' to learn more about interactive tables.';\n",
              "          element.innerHTML = '';\n",
              "          dataTable['output_type'] = 'display_data';\n",
              "          await google.colab.output.renderOutput(dataTable, element);\n",
              "          const docLink = document.createElement('div');\n",
              "          docLink.innerHTML = docLinkHtml;\n",
              "          element.appendChild(docLink);\n",
              "        }\n",
              "      </script>\n",
              "    </div>\n",
              "  </div>\n",
              "  "
            ],
            "text/plain": [
              "         Local 1  Local 2  Local 3  Local 4  Local 5  Local 6  Local 7  Local 8\n",
              "Local 1      0.0    162.0    379.0    765.0   1590.0   2430.0   3070.0   5020.0\n",
              "Local 2    162.0      0.0    215.0    600.0   1540.0   2260.0   2900.0   5120.0\n",
              "Local 3    378.5    215.0      0.0    392.0   1520.0   2060.0   2690.0   5060.0\n",
              "Local 4    765.0    600.0    392.0      0.0   1450.0   1650.0   2300.0   4820.0\n",
              "Local 5   1590.0   1540.0   1520.0   1450.0      0.0   2280.0   2770.0   3620.0\n",
              "Local 6   2430.0   2260.0   2060.0   1650.0   2280.0      0.0    642.0   4420.0\n",
              "Local 7   3070.0   2900.0   2690.0   2300.0   2770.0    642.0      0.0   4360.0\n",
              "Local 8   5020.0   5120.0   5060.0   4820.0   3620.0   4420.0   4360.0      0.0"
            ]
          },
          "metadata": {},
          "execution_count": 10
        }
      ]
    },
    {
      "cell_type": "code",
      "source": [
        "data = df.to_numpy()\n",
        "data"
      ],
      "metadata": {
        "colab": {
          "base_uri": "https://localhost:8080/"
        },
        "id": "9gvgoqDKzTun",
        "outputId": "414dd175-32e6-403e-f42c-59259865de9a"
      },
      "execution_count": null,
      "outputs": [
        {
          "output_type": "execute_result",
          "data": {
            "text/plain": [
              "array([[   0. ,  162. ,  379. ,  765. , 1590. , 2430. , 3070. , 5020. ],\n",
              "       [ 162. ,    0. ,  215. ,  600. , 1540. , 2260. , 2900. , 5120. ],\n",
              "       [ 378.5,  215. ,    0. ,  392. , 1520. , 2060. , 2690. , 5060. ],\n",
              "       [ 765. ,  600. ,  392. ,    0. , 1450. , 1650. , 2300. , 4820. ],\n",
              "       [1590. , 1540. , 1520. , 1450. ,    0. , 2280. , 2770. , 3620. ],\n",
              "       [2430. , 2260. , 2060. , 1650. , 2280. ,    0. ,  642. , 4420. ],\n",
              "       [3070. , 2900. , 2690. , 2300. , 2770. ,  642. ,    0. , 4360. ],\n",
              "       [5020. , 5120. , 5060. , 4820. , 3620. , 4420. , 4360. ,    0. ]])"
            ]
          },
          "metadata": {},
          "execution_count": 9
        }
      ]
    },
    {
      "cell_type": "markdown",
      "metadata": {
        "id": "FWx53HNoxNFW"
      },
      "source": [
        "# Pinguço Viajante\n",
        "\n",
        "Minimize $\\sum_{j=1}^n$ $\\sum_{i=1}^n$ $c_{ij, i≠j}$ * $x_{ij, i≠j}$\n",
        "\n",
        "$\\sum_{i=1, i≠j}^n$ $x_{ij}$ i = 1 para todo i = 1, 2, ..., n\n",
        "\n",
        "$\\sum_{j=1, i≠j}^n$ $x_{ij}$ j = 1 para todo j = 1, 2, ..., n\n",
        "\n",
        "$u_{i}$ - $u_{j}$ ≤ n-1, 2 ≤ i ≠ j ≤ n\n",
        "\n",
        "$x_{ij}$ ∈ {0, 1}  i, j = 1, 2, ..., n i ≠ j\n",
        "\n",
        "$u_{i}$ ∈ $R^+$ i = 1, 2, ..., n\n",
        "\n",
        "\n",
        "$x_j$ = {0, 1} ∀ j = 1... n"
      ]
    },
    {
      "cell_type": "code",
      "metadata": {
        "id": "Ue5gx-_gx8rj"
      },
      "source": [
        "# Inicializa o problema p que será resolvido com o solver\n",
        "solver = pywraplp.Solver(\"Pinguço Viajante\", pywraplp.Solver.CBC_MIXED_INTEGER_PROGRAMMING)"
      ],
      "execution_count": null,
      "outputs": []
    },
    {
      "cell_type": "code",
      "metadata": {
        "id": "FZbZuH8qr34T",
        "colab": {
          "base_uri": "https://localhost:8080/"
        },
        "outputId": "3812b086-1f53-4259-8231-4009a7410835"
      },
      "source": [
        "x = {}\n",
        "for i in range(len(data)):\n",
        "  for j in range(len(data[0])):\n",
        "    x[i, j] = solver.IntVar(0, 1, f\"x[{i}, {j}]\")\n",
        "    print(x[i, j])"
      ],
      "execution_count": null,
      "outputs": [
        {
          "output_type": "stream",
          "name": "stdout",
          "text": [
            "x[0, 0]\n",
            "x[0, 1]\n",
            "x[0, 2]\n",
            "x[0, 3]\n",
            "x[0, 4]\n",
            "x[0, 5]\n",
            "x[0, 6]\n",
            "x[0, 7]\n",
            "x[1, 0]\n",
            "x[1, 1]\n",
            "x[1, 2]\n",
            "x[1, 3]\n",
            "x[1, 4]\n",
            "x[1, 5]\n",
            "x[1, 6]\n",
            "x[1, 7]\n",
            "x[2, 0]\n",
            "x[2, 1]\n",
            "x[2, 2]\n",
            "x[2, 3]\n",
            "x[2, 4]\n",
            "x[2, 5]\n",
            "x[2, 6]\n",
            "x[2, 7]\n",
            "x[3, 0]\n",
            "x[3, 1]\n",
            "x[3, 2]\n",
            "x[3, 3]\n",
            "x[3, 4]\n",
            "x[3, 5]\n",
            "x[3, 6]\n",
            "x[3, 7]\n",
            "x[4, 0]\n",
            "x[4, 1]\n",
            "x[4, 2]\n",
            "x[4, 3]\n",
            "x[4, 4]\n",
            "x[4, 5]\n",
            "x[4, 6]\n",
            "x[4, 7]\n",
            "x[5, 0]\n",
            "x[5, 1]\n",
            "x[5, 2]\n",
            "x[5, 3]\n",
            "x[5, 4]\n",
            "x[5, 5]\n",
            "x[5, 6]\n",
            "x[5, 7]\n",
            "x[6, 0]\n",
            "x[6, 1]\n",
            "x[6, 2]\n",
            "x[6, 3]\n",
            "x[6, 4]\n",
            "x[6, 5]\n",
            "x[6, 6]\n",
            "x[6, 7]\n",
            "x[7, 0]\n",
            "x[7, 1]\n",
            "x[7, 2]\n",
            "x[7, 3]\n",
            "x[7, 4]\n",
            "x[7, 5]\n",
            "x[7, 6]\n",
            "x[7, 7]\n"
          ]
        }
      ]
    },
    {
      "cell_type": "code",
      "metadata": {
        "id": "WV0t0gF6yzkT",
        "colab": {
          "base_uri": "https://localhost:8080/"
        },
        "outputId": "8f404345-3d96-4058-e3a5-39f9e888bf12"
      },
      "source": [
        "u = {}\n",
        "for j in range(len(data)):\n",
        "  u[j] = solver.IntVar(0, n-1, f\"u[{j}]\")\n",
        "  print(u[j])"
      ],
      "execution_count": null,
      "outputs": [
        {
          "output_type": "stream",
          "name": "stdout",
          "text": [
            "u[0]\n",
            "u[1]\n",
            "u[2]\n",
            "u[3]\n",
            "u[4]\n",
            "u[5]\n",
            "u[6]\n",
            "u[7]\n"
          ]
        }
      ]
    },
    {
      "cell_type": "code",
      "metadata": {
        "id": "6zKEJLrXzs2E"
      },
      "source": [
        "for i in range(n):\n",
        "  solver.Add(solver.Sum([x[i, j] for j in range(n) if i != j]) == 1)"
      ],
      "execution_count": null,
      "outputs": []
    },
    {
      "cell_type": "code",
      "metadata": {
        "id": "aNMmyQ8wbLEk"
      },
      "source": [
        "for j in range(n):\n",
        "  solver.Add(solver.Sum([x[i, j] for i in range(n) if i != j]) == 1)"
      ],
      "execution_count": null,
      "outputs": []
    },
    {
      "cell_type": "code",
      "metadata": {
        "id": "AVZhri-0Dbzf"
      },
      "source": [
        "for i in range(1, n):\n",
        "  for j in range(1, n):\n",
        "    if i != j:\n",
        "        solver.Add(u[i] - u[j] + n * x[i,j] <= n-1)\n",
        "    else:\n",
        "        solver.Add(u[i] - u[j] == 0)"
      ],
      "execution_count": null,
      "outputs": []
    },
    {
      "cell_type": "code",
      "metadata": {
        "id": "6aA08E_ozBdC"
      },
      "source": [
        "obj = []\n",
        "for i in range(n):\n",
        "  for j in range(n):\n",
        "    if i!= j:\n",
        "      obj.append(data[i, j] * x[i, j])\n",
        "solver.Minimize(solver.Sum(obj))"
      ],
      "execution_count": null,
      "outputs": []
    },
    {
      "cell_type": "code",
      "metadata": {
        "id": "5IFKjyFKoiw0",
        "colab": {
          "base_uri": "https://localhost:8080/"
        },
        "outputId": "76ebe40b-46a5-4085-aa2d-e6c1ec20d857"
      },
      "source": [
        "status = solver.Solve()\n",
        "status"
      ],
      "execution_count": null,
      "outputs": [
        {
          "output_type": "execute_result",
          "data": {
            "text/plain": [
              "0"
            ]
          },
          "metadata": {},
          "execution_count": 12
        }
      ]
    },
    {
      "cell_type": "code",
      "metadata": {
        "colab": {
          "base_uri": "https://localhost:8080/"
        },
        "id": "F4Cw7gwuQKxW",
        "outputId": "510292fe-f24c-404f-fecc-489b575c023b"
      },
      "source": [
        "\n",
        "print(f'Menor Caminho = {solver.Objective().Value()}m')\n",
        "for i in range(n):\n",
        "  for j in range(n):\n",
        "    if x[i, j].solution_value() != 0:\n",
        "      print(f\"x[{i+1}, {j+1}], {x[i, j].solution_value()}\")"
      ],
      "execution_count": null,
      "outputs": [
        {
          "output_type": "stream",
          "name": "stdout",
          "text": [
            "Menor Caminho = 12631.0m\n",
            "x[1, 5], 1.0\n",
            "x[2, 1], 1.0\n",
            "x[3, 2], 1.0\n",
            "x[4, 3], 1.0\n",
            "x[5, 8], 1.0\n",
            "x[6, 4], 1.0\n",
            "x[7, 6], 1.0\n",
            "x[8, 7], 1.0\n"
          ]
        }
      ]
    }
  ]
}