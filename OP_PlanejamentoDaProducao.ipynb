{
  "nbformat": 4,
  "nbformat_minor": 0,
  "metadata": {
    "colab": {
      "provenance": []
    },
    "kernelspec": {
      "name": "python3",
      "display_name": "Python 3"
    },
    "language_info": {
      "name": "python"
    }
  },
  "cells": [
    {
      "cell_type": "markdown",
      "source": [
        "# Problema de PCP\n",
        "\n",
        "\n",
        "\n",
        "\n"
      ],
      "metadata": {
        "id": "9DD-gP7iSYpn"
      }
    },
    {
      "cell_type": "code",
      "source": [],
      "metadata": {
        "id": "pqUxM72IzaCv"
      },
      "execution_count": null,
      "outputs": []
    },
    {
      "cell_type": "markdown",
      "source": [
        "### Importando as Bibliotecas\n",
        "\n",
        "Nesta atividade serão utilizadas as bibliotecas:\n",
        "\n",
        "    numpy para manipulação de vetores\n",
        "\n",
        "    pandas para manipuação de tabelas\n",
        "\n",
        "    ortools para modelagem.\n",
        "\n",
        "ORTools é uma biblioteca muito versátil, ela aceita manipulação de vetores para a criação de modelos, já instalar os mais populares solvers de código aberto e comerciais, ela é toda construida em C++ otimizado, resultando em uma modelagem rápida, computacionalmente falando, por mais que essa seja a parte que menos consume memória em problemas de pesquisa operacional, ela garante uma performance semelhante mesmo sendo executada em linguagem interpretadas ou compiladas."
      ],
      "metadata": {
        "id": "9sCtDSGTXWvy"
      }
    },
    {
      "cell_type": "code",
      "metadata": {
        "id": "L36Z14hsDQPE",
        "colab": {
          "base_uri": "https://localhost:8080/"
        },
        "outputId": "091187e6-5ca3-4e0c-ce88-524b66a84432"
      },
      "source": [
        "\"\"\" \n",
        "Vinicius Costa Gandolfi\n",
        "\"\"\"\n",
        "\n",
        "!pip install ortools\n",
        "import numpy as np # Manipulação de Vetores\n",
        "import pandas as pd # Manipulação de  Tabelas\n",
        "from ortools.linear_solver import pywraplp # Biblioteca de modelagem de pesquisa operaciona\n",
        "\n"
      ],
      "execution_count": null,
      "outputs": [
        {
          "output_type": "stream",
          "name": "stdout",
          "text": [
            "Looking in indexes: https://pypi.org/simple, https://us-python.pkg.dev/colab-wheels/public/simple/\n",
            "Collecting ortools\n",
            "  Downloading ortools-9.4.1874-cp37-cp37m-manylinux_2_17_x86_64.manylinux2014_x86_64.whl (16.0 MB)\n",
            "\u001b[K     |████████████████████████████████| 16.0 MB 8.4 MB/s \n",
            "\u001b[?25hCollecting protobuf>=3.19.4\n",
            "  Downloading protobuf-4.21.7-cp37-abi3-manylinux2014_x86_64.whl (408 kB)\n",
            "\u001b[K     |████████████████████████████████| 408 kB 45.0 MB/s \n",
            "\u001b[?25hRequirement already satisfied: numpy>=1.13.3 in /usr/local/lib/python3.7/dist-packages (from ortools) (1.21.6)\n",
            "Requirement already satisfied: absl-py>=0.13 in /usr/local/lib/python3.7/dist-packages (from ortools) (1.2.0)\n",
            "Installing collected packages: protobuf, ortools\n",
            "  Attempting uninstall: protobuf\n",
            "    Found existing installation: protobuf 3.17.3\n",
            "    Uninstalling protobuf-3.17.3:\n",
            "      Successfully uninstalled protobuf-3.17.3\n",
            "\u001b[31mERROR: pip's dependency resolver does not currently take into account all the packages that are installed. This behaviour is the source of the following dependency conflicts.\n",
            "tensorflow 2.9.2 requires protobuf<3.20,>=3.9.2, but you have protobuf 4.21.7 which is incompatible.\n",
            "tensorflow-metadata 1.10.0 requires protobuf<4,>=3.13, but you have protobuf 4.21.7 which is incompatible.\n",
            "tensorboard 2.9.1 requires protobuf<3.20,>=3.9.2, but you have protobuf 4.21.7 which is incompatible.\n",
            "google-cloud-bigquery-storage 1.1.2 requires protobuf<4.0.0dev, but you have protobuf 4.21.7 which is incompatible.\n",
            "google-api-core 1.31.6 requires protobuf<4.0.0dev,>=3.12.0; python_version > \"3\", but you have protobuf 4.21.7 which is incompatible.\u001b[0m\n",
            "Successfully installed ortools-9.4.1874 protobuf-4.21.7\n"
          ]
        }
      ]
    },
    {
      "cell_type": "code",
      "metadata": {
        "id": "TS2XfGc4HfbR",
        "colab": {
          "base_uri": "https://localhost:8080/"
        },
        "outputId": "27ad887c-50e0-4c62-f678-85b00cc5149a"
      },
      "source": [
        "produtos = pd.DataFrame({\n",
        "       \"Produto\"        : [1, 2, 3, 4, 5, 6],\n",
        "       \"Etapa1: Máquina\": [1, 4, 1, 4, 1, 2],\n",
        "       \"Etapa1: Tempo\"  : [1, 2, 3, 1, 2, 3],\n",
        "       \"Etapa2: Máquina\": [2, 2, 3, 3, 4, 3],\n",
        "       \"Etapa2: Tempo\"  : [3, 2, 1, 3, 2, 1],\n",
        "       \"Lucro\"          : [5, 2, 6, 3, 7, 4]\n",
        "       })\n",
        "\n",
        "produtos"
      ],
      "execution_count": null,
      "outputs": [
        {
          "output_type": "execute_result",
          "data": {
            "text/plain": [
              "   Produto  Etapa1: Máquina  Etapa1: Tempo  Etapa2: Máquina  Etapa2: Tempo  \\\n",
              "0        1                1              1                2              3   \n",
              "1        2                4              2                2              2   \n",
              "2        3                1              3                3              1   \n",
              "3        4                4              1                3              3   \n",
              "4        5                1              2                4              2   \n",
              "5        6                2              3                3              1   \n",
              "\n",
              "   Lucro  \n",
              "0      5  \n",
              "1      2  \n",
              "2      6  \n",
              "3      3  \n",
              "4      7  \n",
              "5      4  "
            ],
            "text/html": [
              "\n",
              "  <div id=\"df-9a0a8e06-bf05-4ef9-a3a4-bea827c16428\">\n",
              "    <div class=\"colab-df-container\">\n",
              "      <div>\n",
              "<style scoped>\n",
              "    .dataframe tbody tr th:only-of-type {\n",
              "        vertical-align: middle;\n",
              "    }\n",
              "\n",
              "    .dataframe tbody tr th {\n",
              "        vertical-align: top;\n",
              "    }\n",
              "\n",
              "    .dataframe thead th {\n",
              "        text-align: right;\n",
              "    }\n",
              "</style>\n",
              "<table border=\"1\" class=\"dataframe\">\n",
              "  <thead>\n",
              "    <tr style=\"text-align: right;\">\n",
              "      <th></th>\n",
              "      <th>Produto</th>\n",
              "      <th>Etapa1: Máquina</th>\n",
              "      <th>Etapa1: Tempo</th>\n",
              "      <th>Etapa2: Máquina</th>\n",
              "      <th>Etapa2: Tempo</th>\n",
              "      <th>Lucro</th>\n",
              "    </tr>\n",
              "  </thead>\n",
              "  <tbody>\n",
              "    <tr>\n",
              "      <th>0</th>\n",
              "      <td>1</td>\n",
              "      <td>1</td>\n",
              "      <td>1</td>\n",
              "      <td>2</td>\n",
              "      <td>3</td>\n",
              "      <td>5</td>\n",
              "    </tr>\n",
              "    <tr>\n",
              "      <th>1</th>\n",
              "      <td>2</td>\n",
              "      <td>4</td>\n",
              "      <td>2</td>\n",
              "      <td>2</td>\n",
              "      <td>2</td>\n",
              "      <td>2</td>\n",
              "    </tr>\n",
              "    <tr>\n",
              "      <th>2</th>\n",
              "      <td>3</td>\n",
              "      <td>1</td>\n",
              "      <td>3</td>\n",
              "      <td>3</td>\n",
              "      <td>1</td>\n",
              "      <td>6</td>\n",
              "    </tr>\n",
              "    <tr>\n",
              "      <th>3</th>\n",
              "      <td>4</td>\n",
              "      <td>4</td>\n",
              "      <td>1</td>\n",
              "      <td>3</td>\n",
              "      <td>3</td>\n",
              "      <td>3</td>\n",
              "    </tr>\n",
              "    <tr>\n",
              "      <th>4</th>\n",
              "      <td>5</td>\n",
              "      <td>1</td>\n",
              "      <td>2</td>\n",
              "      <td>4</td>\n",
              "      <td>2</td>\n",
              "      <td>7</td>\n",
              "    </tr>\n",
              "    <tr>\n",
              "      <th>5</th>\n",
              "      <td>6</td>\n",
              "      <td>2</td>\n",
              "      <td>3</td>\n",
              "      <td>3</td>\n",
              "      <td>1</td>\n",
              "      <td>4</td>\n",
              "    </tr>\n",
              "  </tbody>\n",
              "</table>\n",
              "</div>\n",
              "      <button class=\"colab-df-convert\" onclick=\"convertToInteractive('df-9a0a8e06-bf05-4ef9-a3a4-bea827c16428')\"\n",
              "              title=\"Convert this dataframe to an interactive table.\"\n",
              "              style=\"display:none;\">\n",
              "        \n",
              "  <svg xmlns=\"http://www.w3.org/2000/svg\" height=\"24px\"viewBox=\"0 0 24 24\"\n",
              "       width=\"24px\">\n",
              "    <path d=\"M0 0h24v24H0V0z\" fill=\"none\"/>\n",
              "    <path d=\"M18.56 5.44l.94 2.06.94-2.06 2.06-.94-2.06-.94-.94-2.06-.94 2.06-2.06.94zm-11 1L8.5 8.5l.94-2.06 2.06-.94-2.06-.94L8.5 2.5l-.94 2.06-2.06.94zm10 10l.94 2.06.94-2.06 2.06-.94-2.06-.94-.94-2.06-.94 2.06-2.06.94z\"/><path d=\"M17.41 7.96l-1.37-1.37c-.4-.4-.92-.59-1.43-.59-.52 0-1.04.2-1.43.59L10.3 9.45l-7.72 7.72c-.78.78-.78 2.05 0 2.83L4 21.41c.39.39.9.59 1.41.59.51 0 1.02-.2 1.41-.59l7.78-7.78 2.81-2.81c.8-.78.8-2.07 0-2.86zM5.41 20L4 18.59l7.72-7.72 1.47 1.35L5.41 20z\"/>\n",
              "  </svg>\n",
              "      </button>\n",
              "      \n",
              "  <style>\n",
              "    .colab-df-container {\n",
              "      display:flex;\n",
              "      flex-wrap:wrap;\n",
              "      gap: 12px;\n",
              "    }\n",
              "\n",
              "    .colab-df-convert {\n",
              "      background-color: #E8F0FE;\n",
              "      border: none;\n",
              "      border-radius: 50%;\n",
              "      cursor: pointer;\n",
              "      display: none;\n",
              "      fill: #1967D2;\n",
              "      height: 32px;\n",
              "      padding: 0 0 0 0;\n",
              "      width: 32px;\n",
              "    }\n",
              "\n",
              "    .colab-df-convert:hover {\n",
              "      background-color: #E2EBFA;\n",
              "      box-shadow: 0px 1px 2px rgba(60, 64, 67, 0.3), 0px 1px 3px 1px rgba(60, 64, 67, 0.15);\n",
              "      fill: #174EA6;\n",
              "    }\n",
              "\n",
              "    [theme=dark] .colab-df-convert {\n",
              "      background-color: #3B4455;\n",
              "      fill: #D2E3FC;\n",
              "    }\n",
              "\n",
              "    [theme=dark] .colab-df-convert:hover {\n",
              "      background-color: #434B5C;\n",
              "      box-shadow: 0px 1px 3px 1px rgba(0, 0, 0, 0.15);\n",
              "      filter: drop-shadow(0px 1px 2px rgba(0, 0, 0, 0.3));\n",
              "      fill: #FFFFFF;\n",
              "    }\n",
              "  </style>\n",
              "\n",
              "      <script>\n",
              "        const buttonEl =\n",
              "          document.querySelector('#df-9a0a8e06-bf05-4ef9-a3a4-bea827c16428 button.colab-df-convert');\n",
              "        buttonEl.style.display =\n",
              "          google.colab.kernel.accessAllowed ? 'block' : 'none';\n",
              "\n",
              "        async function convertToInteractive(key) {\n",
              "          const element = document.querySelector('#df-9a0a8e06-bf05-4ef9-a3a4-bea827c16428');\n",
              "          const dataTable =\n",
              "            await google.colab.kernel.invokeFunction('convertToInteractive',\n",
              "                                                     [key], {});\n",
              "          if (!dataTable) return;\n",
              "\n",
              "          const docLinkHtml = 'Like what you see? Visit the ' +\n",
              "            '<a target=\"_blank\" href=https://colab.research.google.com/notebooks/data_table.ipynb>data table notebook</a>'\n",
              "            + ' to learn more about interactive tables.';\n",
              "          element.innerHTML = '';\n",
              "          dataTable['output_type'] = 'display_data';\n",
              "          await google.colab.output.renderOutput(dataTable, element);\n",
              "          const docLink = document.createElement('div');\n",
              "          docLink.innerHTML = docLinkHtml;\n",
              "          element.appendChild(docLink);\n",
              "        }\n",
              "      </script>\n",
              "    </div>\n",
              "  </div>\n",
              "  "
            ]
          },
          "metadata": {},
          "execution_count": 3
        }
      ]
    },
    {
      "cell_type": "code",
      "source": [
        "def df_to_matrix(df, columns_of_steps, columns_of_time):\n",
        "  dummies = []\n",
        "  column_index = np.arange(len(columns_of_steps))\n",
        "\n",
        "  if len(columns_of_steps) != len(columns_of_time):\n",
        "    return print('Ops... O número de colunas de etapas devem ser o mesmo número de colunas de tempo.')\n",
        "\n",
        "  for index in column_index:\n",
        "    dummie = pd.get_dummies(df[columns_of_steps[index]], prefix='Maquina')\n",
        "    dummie.values[dummie != 0] = df[columns_of_time[index]]\n",
        "    dummies.append(dummie)\n",
        "\n",
        "  resp = pd.concat(dummies)\n",
        "  resp = resp.sum(level=0)\n",
        "  resp = resp.transpose()\n",
        "  resp = resp.add_prefix('Produto_')\n",
        "\n",
        "  return resp"
      ],
      "metadata": {
        "id": "ElvzFoICiQiE"
      },
      "execution_count": null,
      "outputs": []
    },
    {
      "cell_type": "code",
      "source": [
        "restMaquinas = df_to_matrix(produtos, ['Etapa1: Máquina', 'Etapa2: Máquina'], \n",
        "             ['Etapa1: Tempo', 'Etapa2: Tempo'])\n",
        "restMaquinas"
      ],
      "metadata": {
        "colab": {
          "base_uri": "https://localhost:8080/"
        },
        "id": "M7g0zmjejIcP",
        "outputId": "4df40a22-12bb-4c37-de1d-52e4026bcb76"
      },
      "execution_count": null,
      "outputs": [
        {
          "output_type": "stream",
          "name": "stderr",
          "text": [
            "/usr/local/lib/python3.7/dist-packages/ipykernel_launcher.py:14: FutureWarning: Using the level keyword in DataFrame and Series aggregations is deprecated and will be removed in a future version. Use groupby instead. df.sum(level=1) should use df.groupby(level=1).sum().\n",
            "  \n"
          ]
        },
        {
          "output_type": "execute_result",
          "data": {
            "text/plain": [
              "           Produto_0  Produto_1  Produto_2  Produto_3  Produto_4  Produto_5\n",
              "Maquina_1        1.0        0.0        3.0        0.0        2.0        0.0\n",
              "Maquina_2        3.0        2.0        0.0        0.0        0.0        3.0\n",
              "Maquina_4        0.0        2.0        0.0        1.0        2.0        0.0\n",
              "Maquina_3        0.0        0.0        1.0        3.0        0.0        1.0"
            ],
            "text/html": [
              "\n",
              "  <div id=\"df-aeed54cd-3fae-449b-a70e-441665c9e9ed\">\n",
              "    <div class=\"colab-df-container\">\n",
              "      <div>\n",
              "<style scoped>\n",
              "    .dataframe tbody tr th:only-of-type {\n",
              "        vertical-align: middle;\n",
              "    }\n",
              "\n",
              "    .dataframe tbody tr th {\n",
              "        vertical-align: top;\n",
              "    }\n",
              "\n",
              "    .dataframe thead th {\n",
              "        text-align: right;\n",
              "    }\n",
              "</style>\n",
              "<table border=\"1\" class=\"dataframe\">\n",
              "  <thead>\n",
              "    <tr style=\"text-align: right;\">\n",
              "      <th></th>\n",
              "      <th>Produto_0</th>\n",
              "      <th>Produto_1</th>\n",
              "      <th>Produto_2</th>\n",
              "      <th>Produto_3</th>\n",
              "      <th>Produto_4</th>\n",
              "      <th>Produto_5</th>\n",
              "    </tr>\n",
              "  </thead>\n",
              "  <tbody>\n",
              "    <tr>\n",
              "      <th>Maquina_1</th>\n",
              "      <td>1.0</td>\n",
              "      <td>0.0</td>\n",
              "      <td>3.0</td>\n",
              "      <td>0.0</td>\n",
              "      <td>2.0</td>\n",
              "      <td>0.0</td>\n",
              "    </tr>\n",
              "    <tr>\n",
              "      <th>Maquina_2</th>\n",
              "      <td>3.0</td>\n",
              "      <td>2.0</td>\n",
              "      <td>0.0</td>\n",
              "      <td>0.0</td>\n",
              "      <td>0.0</td>\n",
              "      <td>3.0</td>\n",
              "    </tr>\n",
              "    <tr>\n",
              "      <th>Maquina_4</th>\n",
              "      <td>0.0</td>\n",
              "      <td>2.0</td>\n",
              "      <td>0.0</td>\n",
              "      <td>1.0</td>\n",
              "      <td>2.0</td>\n",
              "      <td>0.0</td>\n",
              "    </tr>\n",
              "    <tr>\n",
              "      <th>Maquina_3</th>\n",
              "      <td>0.0</td>\n",
              "      <td>0.0</td>\n",
              "      <td>1.0</td>\n",
              "      <td>3.0</td>\n",
              "      <td>0.0</td>\n",
              "      <td>1.0</td>\n",
              "    </tr>\n",
              "  </tbody>\n",
              "</table>\n",
              "</div>\n",
              "      <button class=\"colab-df-convert\" onclick=\"convertToInteractive('df-aeed54cd-3fae-449b-a70e-441665c9e9ed')\"\n",
              "              title=\"Convert this dataframe to an interactive table.\"\n",
              "              style=\"display:none;\">\n",
              "        \n",
              "  <svg xmlns=\"http://www.w3.org/2000/svg\" height=\"24px\"viewBox=\"0 0 24 24\"\n",
              "       width=\"24px\">\n",
              "    <path d=\"M0 0h24v24H0V0z\" fill=\"none\"/>\n",
              "    <path d=\"M18.56 5.44l.94 2.06.94-2.06 2.06-.94-2.06-.94-.94-2.06-.94 2.06-2.06.94zm-11 1L8.5 8.5l.94-2.06 2.06-.94-2.06-.94L8.5 2.5l-.94 2.06-2.06.94zm10 10l.94 2.06.94-2.06 2.06-.94-2.06-.94-.94-2.06-.94 2.06-2.06.94z\"/><path d=\"M17.41 7.96l-1.37-1.37c-.4-.4-.92-.59-1.43-.59-.52 0-1.04.2-1.43.59L10.3 9.45l-7.72 7.72c-.78.78-.78 2.05 0 2.83L4 21.41c.39.39.9.59 1.41.59.51 0 1.02-.2 1.41-.59l7.78-7.78 2.81-2.81c.8-.78.8-2.07 0-2.86zM5.41 20L4 18.59l7.72-7.72 1.47 1.35L5.41 20z\"/>\n",
              "  </svg>\n",
              "      </button>\n",
              "      \n",
              "  <style>\n",
              "    .colab-df-container {\n",
              "      display:flex;\n",
              "      flex-wrap:wrap;\n",
              "      gap: 12px;\n",
              "    }\n",
              "\n",
              "    .colab-df-convert {\n",
              "      background-color: #E8F0FE;\n",
              "      border: none;\n",
              "      border-radius: 50%;\n",
              "      cursor: pointer;\n",
              "      display: none;\n",
              "      fill: #1967D2;\n",
              "      height: 32px;\n",
              "      padding: 0 0 0 0;\n",
              "      width: 32px;\n",
              "    }\n",
              "\n",
              "    .colab-df-convert:hover {\n",
              "      background-color: #E2EBFA;\n",
              "      box-shadow: 0px 1px 2px rgba(60, 64, 67, 0.3), 0px 1px 3px 1px rgba(60, 64, 67, 0.15);\n",
              "      fill: #174EA6;\n",
              "    }\n",
              "\n",
              "    [theme=dark] .colab-df-convert {\n",
              "      background-color: #3B4455;\n",
              "      fill: #D2E3FC;\n",
              "    }\n",
              "\n",
              "    [theme=dark] .colab-df-convert:hover {\n",
              "      background-color: #434B5C;\n",
              "      box-shadow: 0px 1px 3px 1px rgba(0, 0, 0, 0.15);\n",
              "      filter: drop-shadow(0px 1px 2px rgba(0, 0, 0, 0.3));\n",
              "      fill: #FFFFFF;\n",
              "    }\n",
              "  </style>\n",
              "\n",
              "      <script>\n",
              "        const buttonEl =\n",
              "          document.querySelector('#df-aeed54cd-3fae-449b-a70e-441665c9e9ed button.colab-df-convert');\n",
              "        buttonEl.style.display =\n",
              "          google.colab.kernel.accessAllowed ? 'block' : 'none';\n",
              "\n",
              "        async function convertToInteractive(key) {\n",
              "          const element = document.querySelector('#df-aeed54cd-3fae-449b-a70e-441665c9e9ed');\n",
              "          const dataTable =\n",
              "            await google.colab.kernel.invokeFunction('convertToInteractive',\n",
              "                                                     [key], {});\n",
              "          if (!dataTable) return;\n",
              "\n",
              "          const docLinkHtml = 'Like what you see? Visit the ' +\n",
              "            '<a target=\"_blank\" href=https://colab.research.google.com/notebooks/data_table.ipynb>data table notebook</a>'\n",
              "            + ' to learn more about interactive tables.';\n",
              "          element.innerHTML = '';\n",
              "          dataTable['output_type'] = 'display_data';\n",
              "          await google.colab.output.renderOutput(dataTable, element);\n",
              "          const docLink = document.createElement('div');\n",
              "          docLink.innerHTML = docLinkHtml;\n",
              "          element.appendChild(docLink);\n",
              "        }\n",
              "      </script>\n",
              "    </div>\n",
              "  </div>\n",
              "  "
            ]
          },
          "metadata": {},
          "execution_count": 5
        }
      ]
    },
    {
      "cell_type": "code",
      "source": [
        "disponibilidade = pd.DataFrame({\n",
        "  \"Máquina\"          : [ 1, 2, 3, 4],\n",
        "  \"Tempo Disponível\" : [ 9, 12, 13, 9],\n",
        "})\n",
        "\n",
        "disponibilidade"
      ],
      "metadata": {
        "colab": {
          "base_uri": "https://localhost:8080/"
        },
        "id": "d2L1LL6-bUOL",
        "outputId": "43743a25-9be8-4f97-e940-ba2342e971a0"
      },
      "execution_count": null,
      "outputs": [
        {
          "output_type": "execute_result",
          "data": {
            "text/plain": [
              "   Máquina  Tempo Disponível\n",
              "0        1                 9\n",
              "1        2                12\n",
              "2        3                13\n",
              "3        4                 9"
            ],
            "text/html": [
              "\n",
              "  <div id=\"df-bdd94002-6eff-4556-989c-1a9729c449e7\">\n",
              "    <div class=\"colab-df-container\">\n",
              "      <div>\n",
              "<style scoped>\n",
              "    .dataframe tbody tr th:only-of-type {\n",
              "        vertical-align: middle;\n",
              "    }\n",
              "\n",
              "    .dataframe tbody tr th {\n",
              "        vertical-align: top;\n",
              "    }\n",
              "\n",
              "    .dataframe thead th {\n",
              "        text-align: right;\n",
              "    }\n",
              "</style>\n",
              "<table border=\"1\" class=\"dataframe\">\n",
              "  <thead>\n",
              "    <tr style=\"text-align: right;\">\n",
              "      <th></th>\n",
              "      <th>Máquina</th>\n",
              "      <th>Tempo Disponível</th>\n",
              "    </tr>\n",
              "  </thead>\n",
              "  <tbody>\n",
              "    <tr>\n",
              "      <th>0</th>\n",
              "      <td>1</td>\n",
              "      <td>9</td>\n",
              "    </tr>\n",
              "    <tr>\n",
              "      <th>1</th>\n",
              "      <td>2</td>\n",
              "      <td>12</td>\n",
              "    </tr>\n",
              "    <tr>\n",
              "      <th>2</th>\n",
              "      <td>3</td>\n",
              "      <td>13</td>\n",
              "    </tr>\n",
              "    <tr>\n",
              "      <th>3</th>\n",
              "      <td>4</td>\n",
              "      <td>9</td>\n",
              "    </tr>\n",
              "  </tbody>\n",
              "</table>\n",
              "</div>\n",
              "      <button class=\"colab-df-convert\" onclick=\"convertToInteractive('df-bdd94002-6eff-4556-989c-1a9729c449e7')\"\n",
              "              title=\"Convert this dataframe to an interactive table.\"\n",
              "              style=\"display:none;\">\n",
              "        \n",
              "  <svg xmlns=\"http://www.w3.org/2000/svg\" height=\"24px\"viewBox=\"0 0 24 24\"\n",
              "       width=\"24px\">\n",
              "    <path d=\"M0 0h24v24H0V0z\" fill=\"none\"/>\n",
              "    <path d=\"M18.56 5.44l.94 2.06.94-2.06 2.06-.94-2.06-.94-.94-2.06-.94 2.06-2.06.94zm-11 1L8.5 8.5l.94-2.06 2.06-.94-2.06-.94L8.5 2.5l-.94 2.06-2.06.94zm10 10l.94 2.06.94-2.06 2.06-.94-2.06-.94-.94-2.06-.94 2.06-2.06.94z\"/><path d=\"M17.41 7.96l-1.37-1.37c-.4-.4-.92-.59-1.43-.59-.52 0-1.04.2-1.43.59L10.3 9.45l-7.72 7.72c-.78.78-.78 2.05 0 2.83L4 21.41c.39.39.9.59 1.41.59.51 0 1.02-.2 1.41-.59l7.78-7.78 2.81-2.81c.8-.78.8-2.07 0-2.86zM5.41 20L4 18.59l7.72-7.72 1.47 1.35L5.41 20z\"/>\n",
              "  </svg>\n",
              "      </button>\n",
              "      \n",
              "  <style>\n",
              "    .colab-df-container {\n",
              "      display:flex;\n",
              "      flex-wrap:wrap;\n",
              "      gap: 12px;\n",
              "    }\n",
              "\n",
              "    .colab-df-convert {\n",
              "      background-color: #E8F0FE;\n",
              "      border: none;\n",
              "      border-radius: 50%;\n",
              "      cursor: pointer;\n",
              "      display: none;\n",
              "      fill: #1967D2;\n",
              "      height: 32px;\n",
              "      padding: 0 0 0 0;\n",
              "      width: 32px;\n",
              "    }\n",
              "\n",
              "    .colab-df-convert:hover {\n",
              "      background-color: #E2EBFA;\n",
              "      box-shadow: 0px 1px 2px rgba(60, 64, 67, 0.3), 0px 1px 3px 1px rgba(60, 64, 67, 0.15);\n",
              "      fill: #174EA6;\n",
              "    }\n",
              "\n",
              "    [theme=dark] .colab-df-convert {\n",
              "      background-color: #3B4455;\n",
              "      fill: #D2E3FC;\n",
              "    }\n",
              "\n",
              "    [theme=dark] .colab-df-convert:hover {\n",
              "      background-color: #434B5C;\n",
              "      box-shadow: 0px 1px 3px 1px rgba(0, 0, 0, 0.15);\n",
              "      filter: drop-shadow(0px 1px 2px rgba(0, 0, 0, 0.3));\n",
              "      fill: #FFFFFF;\n",
              "    }\n",
              "  </style>\n",
              "\n",
              "      <script>\n",
              "        const buttonEl =\n",
              "          document.querySelector('#df-bdd94002-6eff-4556-989c-1a9729c449e7 button.colab-df-convert');\n",
              "        buttonEl.style.display =\n",
              "          google.colab.kernel.accessAllowed ? 'block' : 'none';\n",
              "\n",
              "        async function convertToInteractive(key) {\n",
              "          const element = document.querySelector('#df-bdd94002-6eff-4556-989c-1a9729c449e7');\n",
              "          const dataTable =\n",
              "            await google.colab.kernel.invokeFunction('convertToInteractive',\n",
              "                                                     [key], {});\n",
              "          if (!dataTable) return;\n",
              "\n",
              "          const docLinkHtml = 'Like what you see? Visit the ' +\n",
              "            '<a target=\"_blank\" href=https://colab.research.google.com/notebooks/data_table.ipynb>data table notebook</a>'\n",
              "            + ' to learn more about interactive tables.';\n",
              "          element.innerHTML = '';\n",
              "          dataTable['output_type'] = 'display_data';\n",
              "          await google.colab.output.renderOutput(dataTable, element);\n",
              "          const docLink = document.createElement('div');\n",
              "          docLink.innerHTML = docLinkHtml;\n",
              "          element.appendChild(docLink);\n",
              "        }\n",
              "      </script>\n",
              "    </div>\n",
              "  </div>\n",
              "  "
            ]
          },
          "metadata": {},
          "execution_count": 6
        }
      ]
    },
    {
      "cell_type": "markdown",
      "metadata": {
        "id": "FWx53HNoxNFW"
      },
      "source": [
        "## PCP\n",
        "\n",
        "Maximize $\\sum_{j=1}^n$ $x_{j}$ * $l_{j}$ \n",
        "\n",
        "sujeito a:\n",
        "\n",
        "\n",
        "$\\sum_{i=1}^n$ $\\sum_{j=1}^n$ $x_{j}$ * $T_{i, j}$ ≤ D  \n",
        "\n",
        " $x_{j}$ ≤  $y_{j}$ * M\n",
        "\n",
        " $\\sum_{j=1}^n$ $y_{j}$ ≤ K\n",
        "\n",
        "onde:\n",
        "\n",
        "x = peças a serem produzidas de cada peça j\n",
        "\n",
        "l = lucro por peça j\n",
        "\n",
        "T = matriz com as restrições de tempo consumido por peça j por maquina i\n",
        "\n",
        "D = tempo disponível por cada máquina i\n",
        "\n",
        "M = maior tempo disponível\n",
        "\n",
        "k = número máximo de peças diferentes produzidas\n",
        "\n",
        "\n",
        "$x_{j}$ ∈ $Z^+$  ∀ j = 1... n\n",
        "\n",
        "$y_j$ = {0, 1} ∀ j = 1... n"
      ]
    },
    {
      "cell_type": "code",
      "metadata": {
        "id": "Ue5gx-_gx8rj"
      },
      "source": [
        "# Inicializa o problema p que será resolvido com o solver \n",
        "solver = pywraplp.Solver(\"PCP\", pywraplp.Solver.SCIP_MIXED_INTEGER_PROGRAMMING)"
      ],
      "execution_count": null,
      "outputs": []
    },
    {
      "cell_type": "markdown",
      "source": [
        "## Definindo $x_{j}$ como números Inteiros\n",
        "***\n",
        "O $x_{j}$ pertence aos números inteiros positivos. Pois cada produto deve ser feito de forma individua, ou seja, não exisste possibilidade de fazer 0.5 produto.\n",
        "\n",
        "\n",
        "R1: $x_{j}$ ∈ $Z^+$  ∀ j = 1... n"
      ],
      "metadata": {
        "id": "XglnY3uyV94p"
      }
    },
    {
      "cell_type": "code",
      "metadata": {
        "id": "FZbZuH8qr34T",
        "colab": {
          "base_uri": "https://localhost:8080/"
        },
        "outputId": "4057dec8-f82c-46f9-e668-69579a10c694"
      },
      "source": [
        "x = {} # Definindo x como um dicionário\n",
        "for j in range(len(produtos['Produto'])):\n",
        "  x[j] = solver.IntVar(0, solver.infinity(), f\"x[{j}]\")\n",
        "\n",
        "print('Numero Variáveis: ', solver.NumVariables())"
      ],
      "execution_count": null,
      "outputs": [
        {
          "output_type": "stream",
          "name": "stdout",
          "text": [
            "Numero Variáveis:  6\n"
          ]
        }
      ]
    },
    {
      "cell_type": "markdown",
      "source": [
        "## Definindo $y_{j}$ Binário\n",
        "***\n",
        "O $y_{j}$ pertence aos binários. Pois para a restrição de produção de até 4 produtos é necessária uma variável binária.\n",
        "\n",
        "\n",
        "R1: $y_{j}$ ∈ $Z^+$  ∀ j = 1... n"
      ],
      "metadata": {
        "id": "S5O_BH44cyel"
      }
    },
    {
      "cell_type": "code",
      "source": [
        "y = {}\n",
        "for j in range(len(produtos['Produto'])):\n",
        "  y[j] = solver.IntVar(0, 1, f\"y[{j}]\")\n",
        "\n",
        "print('Numero Variáveis: ', solver.NumVariables())"
      ],
      "metadata": {
        "colab": {
          "base_uri": "https://localhost:8080/"
        },
        "id": "kBwHH_qGpwf4",
        "outputId": "eab168fa-3644-481c-e344-5a5ef2dbc987"
      },
      "execution_count": null,
      "outputs": [
        {
          "output_type": "stream",
          "name": "stdout",
          "text": [
            "Numero Variáveis:  12\n"
          ]
        }
      ]
    },
    {
      "cell_type": "markdown",
      "source": [
        "##Restrição 01\n",
        "***\n",
        "\n",
        "Cada peça tem que passar em duas máquinas, e esta matriz $T_{i, j}$ mostra qual produto passa em qua máquina, e o tempo para cada processo.\n",
        "O D representa a quantidade disponível de tempo por maquina por dia.\n",
        "\n",
        "\n",
        "$\\sum_{i=1}^n$ $\\sum_{j=1}^n$ $x_{j}$ * $T_{i, j}$ ≤ D  "
      ],
      "metadata": {
        "id": "dqyPWSrT8vL7"
      }
    },
    {
      "cell_type": "code",
      "source": [
        "restMaquinasArray = restMaquinas.to_numpy()\n",
        "dispMaquinasArray = disponibilidade['Tempo Disponível'].to_numpy()\n",
        "\n",
        "rangeI = range(len(restMaquinasArray))\n",
        "rangeJ = range(len(restMaquinasArray[0]))\n",
        "\n",
        "for i in rangeI:\n",
        "  solver.Add(solver.Sum([x[j] * restMaquinasArray[i, j]   for j in rangeJ]) <= dispMaquinasArray[i], name='RestMaquinas '+str(i))\n",
        "\n",
        "\n",
        "print('Numero Restrições: ', solver.NumConstraints())"
      ],
      "metadata": {
        "colab": {
          "base_uri": "https://localhost:8080/"
        },
        "id": "9lO93IyGnRQ1",
        "outputId": "519461ba-4043-49a6-8e04-def03d28be63"
      },
      "execution_count": null,
      "outputs": [
        {
          "output_type": "stream",
          "name": "stdout",
          "text": [
            "Numero Restrições:  4\n"
          ]
        }
      ]
    },
    {
      "cell_type": "markdown",
      "source": [
        " ## Restrição 02\n",
        "***\n",
        "Como a empresa tem de escolher entre tres ou menos produtos para a sua linha de produção, esta restrição vincura q quantidade de cada produto a uma varíavel binária, obrigando o modelo escolher se vai ou não produzir aquele produto.\n",
        " \n",
        " $x_{j}$ ≤  $y_{j}$ * M\n"
      ],
      "metadata": {
        "id": "24uOD0Qq8_QE"
      }
    },
    {
      "cell_type": "code",
      "source": [
        "numProdutos = np.arange(len(restMaquinasArray[0]))\n",
        "M = np.max(disponibilidade['Tempo Disponível'].to_numpy())\n",
        "\n",
        "for j in numProdutos:\n",
        "  solver.Add(x[j] <= y[j]*M, name='RestPeça '+str(j))\n",
        "\n",
        "print('Numero Restrições: ', solver.NumConstraints())"
      ],
      "metadata": {
        "id": "18dy1-XAlwOy",
        "colab": {
          "base_uri": "https://localhost:8080/"
        },
        "outputId": "7a28ad49-3708-4589-a02b-3859eb75ac5a"
      },
      "execution_count": null,
      "outputs": [
        {
          "output_type": "stream",
          "name": "stdout",
          "text": [
            "Numero Restrições:  10\n"
          ]
        }
      ]
    },
    {
      "cell_type": "markdown",
      "source": [
        " ## Restrição 03\n",
        "***\n",
        "No final, a restrição 02 serve para conseguirmos definir, aqui na restrição 03 o número máximo de produtos escolhidos para a produção.\n",
        " \n",
        " $\\sum_{j=1}^n$ $y_{j}$ ≤ K\n"
      ],
      "metadata": {
        "id": "tQIG8Qel9Gfr"
      }
    },
    {
      "cell_type": "code",
      "source": [
        "numProdutos = np.arange(len(restMaquinasArray[0]))\n",
        "solver.Add(solver.Sum([numProdutos[j] * y[j]   for j in rangeJ]) <= 3, name='RestNumPeças'+str(i))\n",
        "\n",
        "print('Numero Restrições: ', solver.NumConstraints())"
      ],
      "metadata": {
        "id": "dCgtwZ1BBw4a",
        "colab": {
          "base_uri": "https://localhost:8080/"
        },
        "outputId": "35dff8c9-72dd-4bbb-c231-ad7831be91fa"
      },
      "execution_count": null,
      "outputs": [
        {
          "output_type": "stream",
          "name": "stdout",
          "text": [
            "Numero Restrições:  11\n"
          ]
        }
      ]
    },
    {
      "cell_type": "markdown",
      "source": [
        "## Função de Objetivo\n",
        "***\n",
        "\n",
        "O objetivo deste problema é máximizar o lucro na produção de peças.\n",
        "\n",
        "Maximize $\\sum_{j=1}^n$ $x_{j}$ * $l_{j}$ "
      ],
      "metadata": {
        "id": "IePvB8Vf7VTR"
      }
    },
    {
      "cell_type": "code",
      "source": [
        "funcaoObjetivo = []\n",
        "preçoProdutos = produtos['Lucro'].to_numpy()\n",
        "\n",
        "for j in rangeJ:\n",
        "  funcaoObjetivo.append(x[j] * preçoProdutos[j])\n",
        "\n",
        "solver.Maximize(solver.Sum(funcaoObjetivo))\n",
        "status = solver.Solve()\n",
        "status"
      ],
      "metadata": {
        "id": "wfXkqqMM0zDt",
        "colab": {
          "base_uri": "https://localhost:8080/"
        },
        "outputId": "b827740d-2ce8-46d0-8474-941bdc01fb98"
      },
      "execution_count": null,
      "outputs": [
        {
          "output_type": "execute_result",
          "data": {
            "text/plain": [
              "0"
            ]
          },
          "metadata": {},
          "execution_count": 13
        }
      ]
    },
    {
      "cell_type": "code",
      "source": [],
      "metadata": {
        "id": "aoDLAiCFhrHz"
      },
      "execution_count": null,
      "outputs": []
    },
    {
      "cell_type": "code",
      "source": [
        "print(solver.ExportModelAsLpFormat(obfuscated=False))"
      ],
      "metadata": {
        "colab": {
          "base_uri": "https://localhost:8080/"
        },
        "id": "MmFmrRlf-NFT",
        "outputId": "ecbc86e5-15b0-461f-e544-736494c879ff"
      },
      "execution_count": null,
      "outputs": [
        {
          "output_type": "stream",
          "name": "stdout",
          "text": [
            "\\ Generated by MPModelProtoExporter\n",
            "\\   Name             : PCP\n",
            "\\   Format           : Free\n",
            "\\   Constraints      : 11\n",
            "\\   Variables        : 12\n",
            "\\     Binary         : 6\n",
            "\\     Integer        : 6\n",
            "\\     Continuous     : 0\n",
            "Maximize\n",
            " Obj: +5 x[0] +2 x[1] +6 x[2] +3 x[3] +7 x[4] +4 x[5] \n",
            "Subject to\n",
            " RestMaquinas_0: +1 x[0] +3 x[2] +2 x[4]  <= 9\n",
            " RestMaquinas_1: +3 x[0] +2 x[1] +3 x[5]  <= 12\n",
            " RestMaquinas_2: +2 x[1] +1 x[3] +2 x[4]  <= 13\n",
            " RestMaquinas_3: +1 x[2] +3 x[3] +1 x[5]  <= 9\n",
            " RestPeça_0: +1 x[0] -13 y[0]  <= 0\n",
            " RestPeça_1: +1 x[1] -13 y[1]  <= 0\n",
            " RestPeça_2: +1 x[2] -13 y[2]  <= 0\n",
            " RestPeça_3: +1 x[3] -13 y[3]  <= 0\n",
            " RestPeça_4: +1 x[4] -13 y[4]  <= 0\n",
            " RestPeça_5: +1 x[5] -13 y[5]  <= 0\n",
            " RestNumPeças3: +1 y[1] +2 y[2] +3 y[3] +4 y[4] +5 y[5]  <= 3\n",
            "Bounds\n",
            " 0 <= x[0] <= inf\n",
            " 0 <= x[1] <= inf\n",
            " 0 <= x[2] <= inf\n",
            " 0 <= x[3] <= inf\n",
            " 0 <= x[4] <= inf\n",
            " 0 <= x[5] <= inf\n",
            " 0 <= y[0] <= 1\n",
            " 0 <= y[1] <= 1\n",
            " 0 <= y[2] <= 1\n",
            " 0 <= y[3] <= 1\n",
            " 0 <= y[4] <= 1\n",
            " 0 <= y[5] <= 1\n",
            "Binaries\n",
            " y[0]\n",
            " y[1]\n",
            " y[2]\n",
            " y[3]\n",
            " y[4]\n",
            " y[5]\n",
            "Generals\n",
            " x[0]\n",
            " x[1]\n",
            " x[2]\n",
            " x[3]\n",
            " x[4]\n",
            " x[5]\n",
            "End\n",
            "\n"
          ]
        }
      ]
    },
    {
      "cell_type": "code",
      "source": [
        "for constraint in solver.constraints():\n",
        "  print(constraint.dual_value())"
      ],
      "metadata": {
        "colab": {
          "base_uri": "https://localhost:8080/"
        },
        "id": "u9G53yAu9GPR",
        "outputId": "992d02e8-86f1-41c0-bfed-813451e0e160"
      },
      "execution_count": null,
      "outputs": [
        {
          "output_type": "stream",
          "name": "stdout",
          "text": [
            "0.0\n",
            "0.0\n",
            "0.0\n",
            "0.0\n",
            "0.0\n",
            "0.0\n",
            "0.0\n",
            "0.0\n",
            "0.0\n",
            "0.0\n",
            "0.0\n"
          ]
        }
      ]
    },
    {
      "cell_type": "code",
      "source": [
        "print('Resultado do PCP \\n')\n",
        "\n",
        "print('Função Objetivo: ', solver.Objective().Value())\n",
        "for j in rangeJ:\n",
        "  if x[j].solution_value() != 0:\n",
        "    print(f\"{x[j].solution_value()} unidade do produto {j+1}\")\n",
        "print('Tempo para solucionar: ', solver.wall_time(), ' milesegundos.')\n",
        "print('Problem solved in ', solver.iterations(), ' iterações.')"
      ],
      "metadata": {
        "colab": {
          "base_uri": "https://localhost:8080/"
        },
        "id": "nJCvIJj52OH7",
        "outputId": "9c65a38e-d982-479d-85b8-c277cf937fe6"
      },
      "execution_count": null,
      "outputs": [
        {
          "output_type": "stream",
          "name": "stdout",
          "text": [
            "Resultado do PCP \n",
            "\n",
            "Função Objetivo:  30.000000000000004\n",
            "6.0 unidade do produto 2\n",
            "3.0 unidade do produto 3\n",
            "Tempo para solucionar:  168  milesegundos.\n",
            "Problem solved in  7  iterações.\n"
          ]
        }
      ]
    },
    {
      "cell_type": "markdown",
      "source": [
        "## Conclusão e Generalização.\n",
        "\n",
        "Como conseguimos chegar no modelo genérico para resover este problema, podemos o coocar em uma função e generalizarmos para qualquer problema similar, apenas mudando os parametros."
      ],
      "metadata": {
        "id": "4Vx_qRYR-Moi"
      }
    },
    {
      "cell_type": "code",
      "source": [
        "class PCP:\n",
        "  def __init__(self, matrizMaquinaProduto, matrizDisponibilidade, precoProdutos, numeroDeProdutosPermitidos=None):\n",
        "    self.matrizMaquinaProduto = matrizMaquinaProduto\n",
        "    self.matrizDisponibilidade = matrizDisponibilidade\n",
        "    self.numeroDeProdutosPermitidos = numeroDeProdutosPermitidos\n",
        "    self.precoProdutos = precoProdutos\n",
        "    self.solver = pywraplp.Solver(\"PCP\", pywraplp.Solver.SCIP_MIXED_INTEGER_PROGRAMMING)\n",
        "    self.status = None\n",
        "\n",
        "  def solve(self):\n",
        "\n",
        "    rangeJ = np.arange(len(self.matrizMaquinaProduto[0]))\n",
        "    rangeI = np.arange(len(self.matrizMaquinaProduto))\n",
        "\n",
        "    x = {} \n",
        "    # Definindo variável inteira X\n",
        "    for j in rangeJ:\n",
        "      x[j] = self.solver.IntVar(0, self.solver.infinity(), f\"x[{j}]\")\n",
        "    \n",
        "\n",
        "    # Restrição 1\n",
        "    for i in rangeI:\n",
        "      self.solver.Add(self.solver.Sum([x[j] * self.matrizMaquinaProduto[i, j]   for j in rangeJ]) <= self.matrizDisponibilidade[i], name='RestMaquinas '+str(i))\n",
        "    \n",
        "\n",
        "    if self.numeroDeProdutosPermitidos:\n",
        "      y = {}\n",
        "      # Definindo variável binária Y\n",
        "      for j in rangeJ:\n",
        "        y[j] = self.solver.IntVar(0, 1, f\"y[{j}]\")\n",
        "      \n",
        "\n",
        "      # Restrição 2\n",
        "      for j in numProdutos:\n",
        "        self.solver.Add(x[j] <= y[j]*M, name='RestPeça '+str(j))\n",
        "      \n",
        "      \n",
        "      # Restrição 3\n",
        "      self.solver.Add(self.solver.Sum([numProdutos[j] * y[j]   for j in rangeJ]) <= 3, name='RestNumPeças'+str(i))\n",
        "      \n",
        "    \n",
        "    # Objetivo\n",
        "    funcaoObjetivo = []\n",
        "\n",
        "    for j in rangeJ:\n",
        "      funcaoObjetivo.append(x[j] * self.precoProdutos[j])\n",
        "\n",
        "    self.solver.Maximize(solver.Sum(funcaoObjetivo))\n",
        "    self.status = self.solver.Solve()\n",
        "\n",
        "    return self.status\n",
        "\n",
        "  def imprimirModelo(self):\n",
        "    if self.status == 0:\n",
        "      return print(self.solver.ExportModelAsLpFormat(obfuscated=False))\n",
        "\n",
        "  def imprimirResultado(self):\n",
        "\n",
        "    if self.status == 0:\n",
        "      print('Resultado do PCP')\n",
        "      print('Função Objetivo: ', self.solver.Objective().Value())\n",
        "      print('Tempo para solucionar: ', self.solver.wall_time(), ' milesegundos.')\n",
        "      print('Problem solved in ', self.solver.iterations(), ' iterações.')\n",
        "\n",
        "      for j in rangeJ:\n",
        "        \n",
        "        if x[j].solution_value() != 0:\n",
        "          print(f\"{int(x[j].solution_value())} unidade do produto {j+1}\")"
      ],
      "metadata": {
        "id": "0zYfRqeq8iJQ"
      },
      "execution_count": null,
      "outputs": []
    },
    {
      "cell_type": "code",
      "source": [
        "matrizMaquinaProduto = restMaquinas.to_numpy()\n",
        "matrizDisponibilidade = disponibilidade['Tempo Disponível'].to_numpy()\n",
        "precoProdutos = produtos['Lucro'].to_numpy()\n",
        "numeroDeProdutosPermitidos = 3\n",
        "\n",
        "pcp = PCP(matrizMaquinaProduto, matrizDisponibilidade, precoProdutos, numeroDeProdutosPermitidos)\n",
        "pcp.solve()\n",
        "pcp.imprimirResultado()\n",
        "print('-'*100)\n",
        "pcp.imprimirModelo()"
      ],
      "metadata": {
        "id": "8U62_K1cA3MS",
        "colab": {
          "base_uri": "https://localhost:8080/"
        },
        "outputId": "44b5c92a-5911-442c-9b3b-9171af15d6f4"
      },
      "execution_count": null,
      "outputs": [
        {
          "output_type": "stream",
          "name": "stdout",
          "text": [
            "Resultado do PCP\n",
            "Função Objetivo:  30.000000000000004\n",
            "Tempo para solucionar:  8  milesegundos.\n",
            "Problem solved in  7  iterações.\n",
            "6 unidade do produto 2\n",
            "3 unidade do produto 3\n",
            "----------------------------------------------------------------------------------------------------\n",
            "\\ Generated by MPModelProtoExporter\n",
            "\\   Name             : PCP\n",
            "\\   Format           : Free\n",
            "\\   Constraints      : 11\n",
            "\\   Variables        : 12\n",
            "\\     Binary         : 6\n",
            "\\     Integer        : 6\n",
            "\\     Continuous     : 0\n",
            "Maximize\n",
            " Obj: +5 x[0] +2 x[1] +6 x[2] +3 x[3] +7 x[4] +4 x[5] \n",
            "Subject to\n",
            " RestMaquinas_0: +1 x[0] +3 x[2] +2 x[4]  <= 9\n",
            " RestMaquinas_1: +3 x[0] +2 x[1] +3 x[5]  <= 12\n",
            " RestMaquinas_2: +2 x[1] +1 x[3] +2 x[4]  <= 13\n",
            " RestMaquinas_3: +1 x[2] +3 x[3] +1 x[5]  <= 9\n",
            " RestPeça_0: +1 x[0] -13 y[0]  <= 0\n",
            " RestPeça_1: +1 x[1] -13 y[1]  <= 0\n",
            " RestPeça_2: +1 x[2] -13 y[2]  <= 0\n",
            " RestPeça_3: +1 x[3] -13 y[3]  <= 0\n",
            " RestPeça_4: +1 x[4] -13 y[4]  <= 0\n",
            " RestPeça_5: +1 x[5] -13 y[5]  <= 0\n",
            " RestNumPeças3: +1 y[1] +2 y[2] +3 y[3] +4 y[4] +5 y[5]  <= 3\n",
            "Bounds\n",
            " 0 <= x[0] <= inf\n",
            " 0 <= x[1] <= inf\n",
            " 0 <= x[2] <= inf\n",
            " 0 <= x[3] <= inf\n",
            " 0 <= x[4] <= inf\n",
            " 0 <= x[5] <= inf\n",
            " 0 <= y[0] <= 1\n",
            " 0 <= y[1] <= 1\n",
            " 0 <= y[2] <= 1\n",
            " 0 <= y[3] <= 1\n",
            " 0 <= y[4] <= 1\n",
            " 0 <= y[5] <= 1\n",
            "Binaries\n",
            " y[0]\n",
            " y[1]\n",
            " y[2]\n",
            " y[3]\n",
            " y[4]\n",
            " y[5]\n",
            "Generals\n",
            " x[0]\n",
            " x[1]\n",
            " x[2]\n",
            " x[3]\n",
            " x[4]\n",
            " x[5]\n",
            "End\n",
            "\n"
          ]
        }
      ]
    },
    {
      "cell_type": "markdown",
      "source": [
        "Questão 02\n",
        "\n",
        "***"
      ],
      "metadata": {
        "id": "naeBFXVMtKMU"
      }
    },
    {
      "cell_type": "code",
      "source": [
        "def stringToDict(string, string2, string3):\n",
        "  dicionario = {\n",
        "        \"Produto\"        : [],\n",
        "        \"Etapa1: Máquina\": [],\n",
        "        \"Etapa1: Tempo\"  : [],\n",
        "        \"Etapa2: Máquina\": [],\n",
        "        \"Etapa2: Tempo\"  : [],\n",
        "        \"Lucro\"          : []\n",
        "        }\n",
        "\n",
        "  arrays = np.array([string.split('\\n')])\n",
        "  arrays = arrays.T\n",
        "  t = 0\n",
        "  for array in arrays:\n",
        "    if t >=2:\n",
        "      array = np.array(array[0].split(' ')).transpose()\n",
        "      c = 0\n",
        "      for arr in array:\n",
        "        if c == 0:\n",
        "          \n",
        "          dicionario['Produto'].append(int(arr.replace('M', '')))\n",
        "        elif c == 1:\n",
        "          \n",
        "          dicionario['Etapa1: Máquina'].append(int(arr.replace('M', '')))\n",
        "        elif c == 2:\n",
        "          \n",
        "          dicionario['Etapa1: Tempo'].append(int(arr.replace('M', '')))\n",
        "        elif c == 3:\n",
        "          \n",
        "          dicionario['Etapa2: Máquina'].append(int(arr.replace('M', '')))\n",
        "        else:\n",
        "          \n",
        "          dicionario['Etapa2: Tempo'].append(int(arr.replace('M', '')))\n",
        "        c+=1\n",
        "    t+=1\n",
        "\n",
        "\n",
        "  arrays2 = np.array([string2.split('\\n')])\n",
        "  arrays2 = arrays2.T\n",
        "  t = 0\n",
        "  for array2 in arrays2:\n",
        "    if t >=1:\n",
        "      array2 = np.array(array2[0].split(' ')).transpose()\n",
        "      c = 0\n",
        "      for arr2 in array2:\n",
        "        if c == 1:\n",
        "          dicionario['Lucro'].append(int(arr2.replace('M', '')))\n",
        "        c+=1\n",
        "    t+=1\n",
        "\n",
        "\n",
        "  arrays3 = np.array([string3.split('\\n')])\n",
        "  arrays3 = arrays3.T\n",
        "  t = 0\n",
        "  dicionario2 = {  \"Máquina\": [], \"Tempo Disponível\" : []}\n",
        "  for array3 in arrays3:\n",
        "    if t >=1:\n",
        "      array3 = np.array(array3[0].split(' ')).transpose()\n",
        "      c = 0\n",
        "      for arr3 in array3:\n",
        "        if c == 0:\n",
        "          dicionario2[\"Máquina\"].append(int(arr3.replace('M', '')))\n",
        "        elif c == 1:\n",
        "          dicionario2[\"Tempo Disponível\"].append(int(arr3.replace('M', '')))\n",
        "        c+=1\n",
        "    t+=1\n",
        "  return dicionario, dicionario2"
      ],
      "metadata": {
        "id": "KO-um0Rahq4J"
      },
      "execution_count": null,
      "outputs": []
    },
    {
      "cell_type": "code",
      "source": [
        "string = '''Prod Etapa 1 Etapa 2\n",
        "Maq. T Maq. T\n",
        "1 M1 1 M2 3\n",
        "2 M4 2 M2 2\n",
        "3 M1 3 M3 1\n",
        "4 M4 1 M3 3\n",
        "5 M1 2 M4 2\n",
        "6 M2 3 M3 1'''\n",
        "\n",
        "\n",
        "string2 = '''Produto Lucro ($)\n",
        "P1 6\n",
        "P2 5\n",
        "P3 7\n",
        "P4 7\n",
        "P5 6\n",
        "P6 5'''\n",
        "\n",
        "string3 = '''Máquina Disp.(t)\n",
        "M1 11\n",
        "M2 13\n",
        "M3 12\n",
        "M4 10'''\n",
        "\n",
        "dicionario, dicionario2 = stringToDict(string, string2, string3)\n",
        "\n",
        "produtos = pd.DataFrame(dicionario)\n",
        "restMaquinas = df_to_matrix(produtos, ['Etapa1: Máquina', 'Etapa2: Máquina'], ['Etapa1: Tempo', 'Etapa2: Tempo'])\n",
        "disponibilidade = pd.DataFrame(dicionario2)"
      ],
      "metadata": {
        "id": "_t3MJFvvpq_O",
        "colab": {
          "base_uri": "https://localhost:8080/"
        },
        "outputId": "726731a1-249f-48e5-dbaa-8aee99e55517"
      },
      "execution_count": null,
      "outputs": [
        {
          "output_type": "stream",
          "name": "stderr",
          "text": [
            "/usr/local/lib/python3.7/dist-packages/ipykernel_launcher.py:14: FutureWarning: Using the level keyword in DataFrame and Series aggregations is deprecated and will be removed in a future version. Use groupby instead. df.sum(level=1) should use df.groupby(level=1).sum().\n",
            "  \n"
          ]
        }
      ]
    },
    {
      "cell_type": "code",
      "source": [
        "matrizMaquinaProduto = restMaquinas.to_numpy()\n",
        "matrizDisponibilidade = disponibilidade['Tempo Disponível'].to_numpy()\n",
        "precoProdutos = produtos['Lucro'].to_numpy()\n",
        "numeroDeProdutosPermitidos = 3\n",
        "\n",
        "pcp = PCP(matrizMaquinaProduto, matrizDisponibilidade, precoProdutos, numeroDeProdutosPermitidos)\n",
        "pcp.solve()\n",
        "pcp.imprimirResultado()\n",
        "print('-'*100)\n",
        "pcp.imprimirModelo()"
      ],
      "metadata": {
        "id": "l70LLP_hiTSy",
        "colab": {
          "base_uri": "https://localhost:8080/"
        },
        "outputId": "9a5f5631-4d62-49be-f2a9-b1d4db2896ae"
      },
      "execution_count": null,
      "outputs": [
        {
          "output_type": "stream",
          "name": "stdout",
          "text": [
            "Resultado do PCP\n",
            "Função Objetivo:  51.99999999999999\n",
            "Tempo para solucionar:  24  milesegundos.\n",
            "Problem solved in  9  iterações.\n",
            "6 unidade do produto 2\n",
            "3 unidade do produto 3\n",
            "----------------------------------------------------------------------------------------------------\n",
            "\\ Generated by MPModelProtoExporter\n",
            "\\   Name             : PCP\n",
            "\\   Format           : Free\n",
            "\\   Constraints      : 11\n",
            "\\   Variables        : 12\n",
            "\\     Binary         : 6\n",
            "\\     Integer        : 6\n",
            "\\     Continuous     : 0\n",
            "Maximize\n",
            " Obj: +6 x[0] +5 x[1] +7 x[2] +7 x[3] +6 x[4] +5 x[5] \n",
            "Subject to\n",
            " RestMaquinas_0: +1 x[0] +3 x[2] +2 x[4]  <= 11\n",
            " RestMaquinas_1: +3 x[0] +2 x[1] +3 x[5]  <= 13\n",
            " RestMaquinas_2: +2 x[1] +1 x[3] +2 x[4]  <= 12\n",
            " RestMaquinas_3: +1 x[2] +3 x[3] +1 x[5]  <= 10\n",
            " RestPeça_0: +1 x[0] -13 y[0]  <= 0\n",
            " RestPeça_1: +1 x[1] -13 y[1]  <= 0\n",
            " RestPeça_2: +1 x[2] -13 y[2]  <= 0\n",
            " RestPeça_3: +1 x[3] -13 y[3]  <= 0\n",
            " RestPeça_4: +1 x[4] -13 y[4]  <= 0\n",
            " RestPeça_5: +1 x[5] -13 y[5]  <= 0\n",
            " RestNumPeças3: +1 y[1] +2 y[2] +3 y[3] +4 y[4] +5 y[5]  <= 3\n",
            "Bounds\n",
            " 0 <= x[0] <= inf\n",
            " 0 <= x[1] <= inf\n",
            " 0 <= x[2] <= inf\n",
            " 0 <= x[3] <= inf\n",
            " 0 <= x[4] <= inf\n",
            " 0 <= x[5] <= inf\n",
            " 0 <= y[0] <= 1\n",
            " 0 <= y[1] <= 1\n",
            " 0 <= y[2] <= 1\n",
            " 0 <= y[3] <= 1\n",
            " 0 <= y[4] <= 1\n",
            " 0 <= y[5] <= 1\n",
            "Binaries\n",
            " y[0]\n",
            " y[1]\n",
            " y[2]\n",
            " y[3]\n",
            " y[4]\n",
            " y[5]\n",
            "Generals\n",
            " x[0]\n",
            " x[1]\n",
            " x[2]\n",
            " x[3]\n",
            " x[4]\n",
            " x[5]\n",
            "End\n",
            "\n"
          ]
        }
      ]
    },
    {
      "cell_type": "markdown",
      "source": [
        "Questão 03\n",
        "\n",
        "***"
      ],
      "metadata": {
        "id": "D7o1FuFKtbig"
      }
    },
    {
      "cell_type": "code",
      "source": [
        "string = '''Prod Etapa 1 Etapa 2\n",
        "Maq. T Maq. T\n",
        "1 M1 2 M2 3\n",
        "2 M4 2 M2 3\n",
        "3 M1 1 M3 1\n",
        "4 M4 1 M3 1\n",
        "5 M1 3 M4 2\n",
        "6 M2 3 M3 2'''\n",
        "\n",
        "\n",
        "string2 = '''Produto Lucro ($)\n",
        "P1 6\n",
        "P2 5\n",
        "P3 7\n",
        "P4 7\n",
        "P5 6\n",
        "P6 5'''\n",
        "\n",
        "string3 = '''Máquina Disp.(t)\n",
        "M1 11\n",
        "M2 13\n",
        "M3 12\n",
        "M4 10'''\n",
        "\n",
        "dicionario, dicionario2 = stringToDict(string, string2, string3)\n",
        "\n",
        "produtos = pd.DataFrame(dicionario)\n",
        "restMaquinas = df_to_matrix(produtos, ['Etapa1: Máquina', 'Etapa2: Máquina'], ['Etapa1: Tempo', 'Etapa2: Tempo'])\n",
        "disponibilidade = pd.DataFrame(dicionario2)"
      ],
      "metadata": {
        "id": "X1X7YArrtbih",
        "colab": {
          "base_uri": "https://localhost:8080/"
        },
        "outputId": "2906991b-deac-4897-a992-b0088555e33b"
      },
      "execution_count": null,
      "outputs": [
        {
          "output_type": "stream",
          "name": "stderr",
          "text": [
            "/usr/local/lib/python3.7/dist-packages/ipykernel_launcher.py:14: FutureWarning: Using the level keyword in DataFrame and Series aggregations is deprecated and will be removed in a future version. Use groupby instead. df.sum(level=1) should use df.groupby(level=1).sum().\n",
            "  \n"
          ]
        }
      ]
    },
    {
      "cell_type": "code",
      "source": [
        "matrizMaquinaProduto = restMaquinas.to_numpy()\n",
        "matrizDisponibilidade = disponibilidade['Tempo Disponível'].to_numpy()\n",
        "precoProdutos = produtos['Lucro'].to_numpy()\n",
        "numeroDeProdutosPermitidos = 3\n",
        "\n",
        "pcp = PCP(matrizMaquinaProduto, matrizDisponibilidade, precoProdutos, numeroDeProdutosPermitidos)\n",
        "pcp.solve()\n",
        "pcp.imprimirResultado()\n",
        "print('-'*100)\n",
        "pcp.imprimirModelo()"
      ],
      "metadata": {
        "id": "ra0QRgMvtbih",
        "colab": {
          "base_uri": "https://localhost:8080/"
        },
        "outputId": "4a54e073-2fa3-4ea7-84c7-6bdf45e3315d"
      },
      "execution_count": null,
      "outputs": [
        {
          "output_type": "stream",
          "name": "stdout",
          "text": [
            "Resultado do PCP\n",
            "Função Objetivo:  94.00000000000001\n",
            "Tempo para solucionar:  17  milesegundos.\n",
            "Problem solved in  5  iterações.\n",
            "6 unidade do produto 2\n",
            "3 unidade do produto 3\n",
            "----------------------------------------------------------------------------------------------------\n",
            "\\ Generated by MPModelProtoExporter\n",
            "\\   Name             : PCP\n",
            "\\   Format           : Free\n",
            "\\   Constraints      : 11\n",
            "\\   Variables        : 12\n",
            "\\     Binary         : 6\n",
            "\\     Integer        : 6\n",
            "\\     Continuous     : 0\n",
            "Maximize\n",
            " Obj: +6 x[0] +5 x[1] +7 x[2] +7 x[3] +6 x[4] +5 x[5] \n",
            "Subject to\n",
            " RestMaquinas_0: +2 x[0] +1 x[2] +3 x[4]  <= 11\n",
            " RestMaquinas_1: +3 x[0] +3 x[1] +3 x[5]  <= 13\n",
            " RestMaquinas_2: +2 x[1] +1 x[3] +2 x[4]  <= 12\n",
            " RestMaquinas_3: +1 x[2] +1 x[3] +2 x[5]  <= 10\n",
            " RestPeça_0: +1 x[0] -13 y[0]  <= 0\n",
            " RestPeça_1: +1 x[1] -13 y[1]  <= 0\n",
            " RestPeça_2: +1 x[2] -13 y[2]  <= 0\n",
            " RestPeça_3: +1 x[3] -13 y[3]  <= 0\n",
            " RestPeça_4: +1 x[4] -13 y[4]  <= 0\n",
            " RestPeça_5: +1 x[5] -13 y[5]  <= 0\n",
            " RestNumPeças3: +1 y[1] +2 y[2] +3 y[3] +4 y[4] +5 y[5]  <= 3\n",
            "Bounds\n",
            " 0 <= x[0] <= inf\n",
            " 0 <= x[1] <= inf\n",
            " 0 <= x[2] <= inf\n",
            " 0 <= x[3] <= inf\n",
            " 0 <= x[4] <= inf\n",
            " 0 <= x[5] <= inf\n",
            " 0 <= y[0] <= 1\n",
            " 0 <= y[1] <= 1\n",
            " 0 <= y[2] <= 1\n",
            " 0 <= y[3] <= 1\n",
            " 0 <= y[4] <= 1\n",
            " 0 <= y[5] <= 1\n",
            "Binaries\n",
            " y[0]\n",
            " y[1]\n",
            " y[2]\n",
            " y[3]\n",
            " y[4]\n",
            " y[5]\n",
            "Generals\n",
            " x[0]\n",
            " x[1]\n",
            " x[2]\n",
            " x[3]\n",
            " x[4]\n",
            " x[5]\n",
            "End\n",
            "\n"
          ]
        }
      ]
    },
    {
      "cell_type": "markdown",
      "source": [
        "Questão 04\n",
        "\n",
        "***"
      ],
      "metadata": {
        "id": "KVuKhLTptcL-"
      }
    },
    {
      "cell_type": "code",
      "source": [
        "string = '''Prod Etapa 1 Etapa 2\n",
        "Maq. T Maq. T\n",
        "1 M1 1 M2 3\n",
        "2 M4 2 M2 2\n",
        "3 M1 3 M3 1\n",
        "4 M4 1 M3 3\n",
        "5 M1 2 M4 2\n",
        "6 M2 3 M3 1'''\n",
        "\n",
        "\n",
        "string2 = '''Produto Lucro ($)\n",
        "P1 5\n",
        "P2 2\n",
        "P3 6\n",
        "P4 3\n",
        "P5 7\n",
        "P6 4'''\n",
        "\n",
        "string3 = '''Máquina Disp.(t)\n",
        "M1 9\n",
        "M2 12\n",
        "M3 13\n",
        "M4 9'''\n",
        "\n",
        "dicionario, dicionario2 = stringToDict(string, string2, string3)\n",
        "\n",
        "produtos = pd.DataFrame(dicionario)\n",
        "restMaquinas = df_to_matrix(produtos, ['Etapa1: Máquina', 'Etapa2: Máquina'], ['Etapa1: Tempo', 'Etapa2: Tempo'])\n",
        "disponibilidade = pd.DataFrame(dicionario2)"
      ],
      "metadata": {
        "id": "AvsiEcwOtcL_",
        "colab": {
          "base_uri": "https://localhost:8080/"
        },
        "outputId": "a8610181-0062-47f0-9f33-8d92971a3e44"
      },
      "execution_count": null,
      "outputs": [
        {
          "output_type": "stream",
          "name": "stderr",
          "text": [
            "/usr/local/lib/python3.7/dist-packages/ipykernel_launcher.py:14: FutureWarning: Using the level keyword in DataFrame and Series aggregations is deprecated and will be removed in a future version. Use groupby instead. df.sum(level=1) should use df.groupby(level=1).sum().\n",
            "  \n"
          ]
        }
      ]
    },
    {
      "cell_type": "code",
      "source": [
        "matrizMaquinaProduto = restMaquinas.to_numpy()\n",
        "matrizDisponibilidade = disponibilidade['Tempo Disponível'].to_numpy()\n",
        "precoProdutos = produtos['Lucro'].to_numpy()\n",
        "numeroDeProdutosPermitidos = 3\n",
        "\n",
        "pcp = PCP(matrizMaquinaProduto, matrizDisponibilidade, precoProdutos, numeroDeProdutosPermitidos)\n",
        "pcp.solve()\n",
        "pcp.imprimirResultado()\n",
        "print('-'*100)\n",
        "pcp.imprimirModelo()"
      ],
      "metadata": {
        "id": "GFhz2FBMtcMA",
        "colab": {
          "base_uri": "https://localhost:8080/"
        },
        "outputId": "a02abed1-9bd2-40eb-cb7c-34f10e07d7ed"
      },
      "execution_count": null,
      "outputs": [
        {
          "output_type": "stream",
          "name": "stdout",
          "text": [
            "Resultado do PCP\n",
            "Função Objetivo:  30.000000000000004\n",
            "Tempo para solucionar:  10  milesegundos.\n",
            "Problem solved in  7  iterações.\n",
            "6 unidade do produto 2\n",
            "3 unidade do produto 3\n",
            "----------------------------------------------------------------------------------------------------\n",
            "\\ Generated by MPModelProtoExporter\n",
            "\\   Name             : PCP\n",
            "\\   Format           : Free\n",
            "\\   Constraints      : 11\n",
            "\\   Variables        : 12\n",
            "\\     Binary         : 6\n",
            "\\     Integer        : 6\n",
            "\\     Continuous     : 0\n",
            "Maximize\n",
            " Obj: +5 x[0] +2 x[1] +6 x[2] +3 x[3] +7 x[4] +4 x[5] \n",
            "Subject to\n",
            " RestMaquinas_0: +1 x[0] +3 x[2] +2 x[4]  <= 9\n",
            " RestMaquinas_1: +3 x[0] +2 x[1] +3 x[5]  <= 12\n",
            " RestMaquinas_2: +2 x[1] +1 x[3] +2 x[4]  <= 13\n",
            " RestMaquinas_3: +1 x[2] +3 x[3] +1 x[5]  <= 9\n",
            " RestPeça_0: +1 x[0] -13 y[0]  <= 0\n",
            " RestPeça_1: +1 x[1] -13 y[1]  <= 0\n",
            " RestPeça_2: +1 x[2] -13 y[2]  <= 0\n",
            " RestPeça_3: +1 x[3] -13 y[3]  <= 0\n",
            " RestPeça_4: +1 x[4] -13 y[4]  <= 0\n",
            " RestPeça_5: +1 x[5] -13 y[5]  <= 0\n",
            " RestNumPeças3: +1 y[1] +2 y[2] +3 y[3] +4 y[4] +5 y[5]  <= 3\n",
            "Bounds\n",
            " 0 <= x[0] <= inf\n",
            " 0 <= x[1] <= inf\n",
            " 0 <= x[2] <= inf\n",
            " 0 <= x[3] <= inf\n",
            " 0 <= x[4] <= inf\n",
            " 0 <= x[5] <= inf\n",
            " 0 <= y[0] <= 1\n",
            " 0 <= y[1] <= 1\n",
            " 0 <= y[2] <= 1\n",
            " 0 <= y[3] <= 1\n",
            " 0 <= y[4] <= 1\n",
            " 0 <= y[5] <= 1\n",
            "Binaries\n",
            " y[0]\n",
            " y[1]\n",
            " y[2]\n",
            " y[3]\n",
            " y[4]\n",
            " y[5]\n",
            "Generals\n",
            " x[0]\n",
            " x[1]\n",
            " x[2]\n",
            " x[3]\n",
            " x[4]\n",
            " x[5]\n",
            "End\n",
            "\n"
          ]
        }
      ]
    }
  ]
}